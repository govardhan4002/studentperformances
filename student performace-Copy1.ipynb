{
 "cells": [
  {
   "cell_type": "code",
   "execution_count": 1,
   "id": "0bd560cf-0e68-40aa-b61a-da793426ef7f",
   "metadata": {},
   "outputs": [],
   "source": [
    "import pandas as  pd\n",
    "import numpy as np\n",
    "import seaborn as sns\n",
    "import matplotlib.pyplot as plt"
   ]
  },
  {
   "cell_type": "markdown",
   "id": "b677b694-270f-4b8f-b417-abff8d0fe9b6",
   "metadata": {},
   "source": [
    "step 1\n",
    "\n",
    "Load the Data"
   ]
  },
  {
   "cell_type": "code",
   "execution_count": 2,
   "id": "1a596ca6-2446-4971-a85f-7f858c83c55a",
   "metadata": {},
   "outputs": [],
   "source": [
    "df=pd.read_csv(\"studentperformance.csv\")"
   ]
  },
  {
   "cell_type": "code",
   "execution_count": 3,
   "id": "d4c2bd62-b484-4263-8020-f20a37b932f3",
   "metadata": {},
   "outputs": [
    {
     "data": {
      "text/html": [
       "<div>\n",
       "<style scoped>\n",
       "    .dataframe tbody tr th:only-of-type {\n",
       "        vertical-align: middle;\n",
       "    }\n",
       "\n",
       "    .dataframe tbody tr th {\n",
       "        vertical-align: top;\n",
       "    }\n",
       "\n",
       "    .dataframe thead th {\n",
       "        text-align: right;\n",
       "    }\n",
       "</style>\n",
       "<table border=\"1\" class=\"dataframe\">\n",
       "  <thead>\n",
       "    <tr style=\"text-align: right;\">\n",
       "      <th></th>\n",
       "      <th>Hours_Studied</th>\n",
       "      <th>Attendance</th>\n",
       "      <th>Parental_Involvement</th>\n",
       "      <th>Access_to_Resources</th>\n",
       "      <th>Extracurricular_Activities</th>\n",
       "      <th>Sleep_Hours</th>\n",
       "      <th>Previous_Scores</th>\n",
       "      <th>Motivation_Level</th>\n",
       "      <th>Internet_Access</th>\n",
       "      <th>Tutoring_Sessions</th>\n",
       "      <th>Family_Income</th>\n",
       "      <th>Teacher_Quality</th>\n",
       "      <th>School_Type</th>\n",
       "      <th>Peer_Influence</th>\n",
       "      <th>Physical_Activity</th>\n",
       "      <th>Learning_Disabilities</th>\n",
       "      <th>Parental_Education_Level</th>\n",
       "      <th>Distance_from_Home</th>\n",
       "      <th>Gender</th>\n",
       "      <th>Exam_Score</th>\n",
       "    </tr>\n",
       "  </thead>\n",
       "  <tbody>\n",
       "    <tr>\n",
       "      <th>0</th>\n",
       "      <td>23</td>\n",
       "      <td>84</td>\n",
       "      <td>Low</td>\n",
       "      <td>High</td>\n",
       "      <td>No</td>\n",
       "      <td>7</td>\n",
       "      <td>73</td>\n",
       "      <td>Low</td>\n",
       "      <td>Yes</td>\n",
       "      <td>0</td>\n",
       "      <td>Low</td>\n",
       "      <td>Medium</td>\n",
       "      <td>Public</td>\n",
       "      <td>Positive</td>\n",
       "      <td>3</td>\n",
       "      <td>No</td>\n",
       "      <td>High School</td>\n",
       "      <td>Near</td>\n",
       "      <td>Male</td>\n",
       "      <td>67</td>\n",
       "    </tr>\n",
       "    <tr>\n",
       "      <th>1</th>\n",
       "      <td>19</td>\n",
       "      <td>64</td>\n",
       "      <td>Low</td>\n",
       "      <td>Medium</td>\n",
       "      <td>No</td>\n",
       "      <td>8</td>\n",
       "      <td>59</td>\n",
       "      <td>Low</td>\n",
       "      <td>Yes</td>\n",
       "      <td>2</td>\n",
       "      <td>Medium</td>\n",
       "      <td>Medium</td>\n",
       "      <td>Public</td>\n",
       "      <td>Negative</td>\n",
       "      <td>4</td>\n",
       "      <td>No</td>\n",
       "      <td>College</td>\n",
       "      <td>Moderate</td>\n",
       "      <td>Female</td>\n",
       "      <td>61</td>\n",
       "    </tr>\n",
       "    <tr>\n",
       "      <th>2</th>\n",
       "      <td>24</td>\n",
       "      <td>98</td>\n",
       "      <td>Medium</td>\n",
       "      <td>Medium</td>\n",
       "      <td>Yes</td>\n",
       "      <td>7</td>\n",
       "      <td>91</td>\n",
       "      <td>Medium</td>\n",
       "      <td>Yes</td>\n",
       "      <td>2</td>\n",
       "      <td>Medium</td>\n",
       "      <td>Medium</td>\n",
       "      <td>Public</td>\n",
       "      <td>Neutral</td>\n",
       "      <td>4</td>\n",
       "      <td>No</td>\n",
       "      <td>Postgraduate</td>\n",
       "      <td>Near</td>\n",
       "      <td>Male</td>\n",
       "      <td>74</td>\n",
       "    </tr>\n",
       "    <tr>\n",
       "      <th>3</th>\n",
       "      <td>29</td>\n",
       "      <td>89</td>\n",
       "      <td>Low</td>\n",
       "      <td>Medium</td>\n",
       "      <td>Yes</td>\n",
       "      <td>8</td>\n",
       "      <td>98</td>\n",
       "      <td>Medium</td>\n",
       "      <td>Yes</td>\n",
       "      <td>1</td>\n",
       "      <td>Medium</td>\n",
       "      <td>Medium</td>\n",
       "      <td>Public</td>\n",
       "      <td>Negative</td>\n",
       "      <td>4</td>\n",
       "      <td>No</td>\n",
       "      <td>High School</td>\n",
       "      <td>Moderate</td>\n",
       "      <td>Male</td>\n",
       "      <td>71</td>\n",
       "    </tr>\n",
       "    <tr>\n",
       "      <th>4</th>\n",
       "      <td>19</td>\n",
       "      <td>92</td>\n",
       "      <td>Medium</td>\n",
       "      <td>Medium</td>\n",
       "      <td>Yes</td>\n",
       "      <td>6</td>\n",
       "      <td>65</td>\n",
       "      <td>Medium</td>\n",
       "      <td>Yes</td>\n",
       "      <td>3</td>\n",
       "      <td>Medium</td>\n",
       "      <td>High</td>\n",
       "      <td>Public</td>\n",
       "      <td>Neutral</td>\n",
       "      <td>4</td>\n",
       "      <td>No</td>\n",
       "      <td>College</td>\n",
       "      <td>Near</td>\n",
       "      <td>Female</td>\n",
       "      <td>70</td>\n",
       "    </tr>\n",
       "    <tr>\n",
       "      <th>...</th>\n",
       "      <td>...</td>\n",
       "      <td>...</td>\n",
       "      <td>...</td>\n",
       "      <td>...</td>\n",
       "      <td>...</td>\n",
       "      <td>...</td>\n",
       "      <td>...</td>\n",
       "      <td>...</td>\n",
       "      <td>...</td>\n",
       "      <td>...</td>\n",
       "      <td>...</td>\n",
       "      <td>...</td>\n",
       "      <td>...</td>\n",
       "      <td>...</td>\n",
       "      <td>...</td>\n",
       "      <td>...</td>\n",
       "      <td>...</td>\n",
       "      <td>...</td>\n",
       "      <td>...</td>\n",
       "      <td>...</td>\n",
       "    </tr>\n",
       "    <tr>\n",
       "      <th>6602</th>\n",
       "      <td>25</td>\n",
       "      <td>69</td>\n",
       "      <td>High</td>\n",
       "      <td>Medium</td>\n",
       "      <td>No</td>\n",
       "      <td>7</td>\n",
       "      <td>76</td>\n",
       "      <td>Medium</td>\n",
       "      <td>Yes</td>\n",
       "      <td>1</td>\n",
       "      <td>High</td>\n",
       "      <td>Medium</td>\n",
       "      <td>Public</td>\n",
       "      <td>Positive</td>\n",
       "      <td>2</td>\n",
       "      <td>No</td>\n",
       "      <td>High School</td>\n",
       "      <td>Near</td>\n",
       "      <td>Female</td>\n",
       "      <td>68</td>\n",
       "    </tr>\n",
       "    <tr>\n",
       "      <th>6603</th>\n",
       "      <td>23</td>\n",
       "      <td>76</td>\n",
       "      <td>High</td>\n",
       "      <td>Medium</td>\n",
       "      <td>No</td>\n",
       "      <td>8</td>\n",
       "      <td>81</td>\n",
       "      <td>Medium</td>\n",
       "      <td>Yes</td>\n",
       "      <td>3</td>\n",
       "      <td>Low</td>\n",
       "      <td>High</td>\n",
       "      <td>Public</td>\n",
       "      <td>Positive</td>\n",
       "      <td>2</td>\n",
       "      <td>No</td>\n",
       "      <td>High School</td>\n",
       "      <td>Near</td>\n",
       "      <td>Female</td>\n",
       "      <td>69</td>\n",
       "    </tr>\n",
       "    <tr>\n",
       "      <th>6604</th>\n",
       "      <td>20</td>\n",
       "      <td>90</td>\n",
       "      <td>Medium</td>\n",
       "      <td>Low</td>\n",
       "      <td>Yes</td>\n",
       "      <td>6</td>\n",
       "      <td>65</td>\n",
       "      <td>Low</td>\n",
       "      <td>Yes</td>\n",
       "      <td>3</td>\n",
       "      <td>Low</td>\n",
       "      <td>Medium</td>\n",
       "      <td>Public</td>\n",
       "      <td>Negative</td>\n",
       "      <td>2</td>\n",
       "      <td>No</td>\n",
       "      <td>Postgraduate</td>\n",
       "      <td>Near</td>\n",
       "      <td>Female</td>\n",
       "      <td>68</td>\n",
       "    </tr>\n",
       "    <tr>\n",
       "      <th>6605</th>\n",
       "      <td>10</td>\n",
       "      <td>86</td>\n",
       "      <td>High</td>\n",
       "      <td>High</td>\n",
       "      <td>Yes</td>\n",
       "      <td>6</td>\n",
       "      <td>91</td>\n",
       "      <td>High</td>\n",
       "      <td>Yes</td>\n",
       "      <td>2</td>\n",
       "      <td>Low</td>\n",
       "      <td>Medium</td>\n",
       "      <td>Private</td>\n",
       "      <td>Positive</td>\n",
       "      <td>3</td>\n",
       "      <td>No</td>\n",
       "      <td>High School</td>\n",
       "      <td>Far</td>\n",
       "      <td>Female</td>\n",
       "      <td>68</td>\n",
       "    </tr>\n",
       "    <tr>\n",
       "      <th>6606</th>\n",
       "      <td>15</td>\n",
       "      <td>67</td>\n",
       "      <td>Medium</td>\n",
       "      <td>Low</td>\n",
       "      <td>Yes</td>\n",
       "      <td>9</td>\n",
       "      <td>94</td>\n",
       "      <td>Medium</td>\n",
       "      <td>Yes</td>\n",
       "      <td>0</td>\n",
       "      <td>Medium</td>\n",
       "      <td>Medium</td>\n",
       "      <td>Public</td>\n",
       "      <td>Positive</td>\n",
       "      <td>4</td>\n",
       "      <td>No</td>\n",
       "      <td>Postgraduate</td>\n",
       "      <td>Near</td>\n",
       "      <td>Male</td>\n",
       "      <td>64</td>\n",
       "    </tr>\n",
       "  </tbody>\n",
       "</table>\n",
       "<p>6607 rows × 20 columns</p>\n",
       "</div>"
      ],
      "text/plain": [
       "      Hours_Studied  Attendance Parental_Involvement Access_to_Resources  \\\n",
       "0                23          84                  Low                High   \n",
       "1                19          64                  Low              Medium   \n",
       "2                24          98               Medium              Medium   \n",
       "3                29          89                  Low              Medium   \n",
       "4                19          92               Medium              Medium   \n",
       "...             ...         ...                  ...                 ...   \n",
       "6602             25          69                 High              Medium   \n",
       "6603             23          76                 High              Medium   \n",
       "6604             20          90               Medium                 Low   \n",
       "6605             10          86                 High                High   \n",
       "6606             15          67               Medium                 Low   \n",
       "\n",
       "     Extracurricular_Activities  Sleep_Hours  Previous_Scores  \\\n",
       "0                            No            7               73   \n",
       "1                            No            8               59   \n",
       "2                           Yes            7               91   \n",
       "3                           Yes            8               98   \n",
       "4                           Yes            6               65   \n",
       "...                         ...          ...              ...   \n",
       "6602                         No            7               76   \n",
       "6603                         No            8               81   \n",
       "6604                        Yes            6               65   \n",
       "6605                        Yes            6               91   \n",
       "6606                        Yes            9               94   \n",
       "\n",
       "     Motivation_Level Internet_Access  Tutoring_Sessions Family_Income  \\\n",
       "0                 Low             Yes                  0           Low   \n",
       "1                 Low             Yes                  2        Medium   \n",
       "2              Medium             Yes                  2        Medium   \n",
       "3              Medium             Yes                  1        Medium   \n",
       "4              Medium             Yes                  3        Medium   \n",
       "...               ...             ...                ...           ...   \n",
       "6602           Medium             Yes                  1          High   \n",
       "6603           Medium             Yes                  3           Low   \n",
       "6604              Low             Yes                  3           Low   \n",
       "6605             High             Yes                  2           Low   \n",
       "6606           Medium             Yes                  0        Medium   \n",
       "\n",
       "     Teacher_Quality School_Type Peer_Influence  Physical_Activity  \\\n",
       "0             Medium      Public       Positive                  3   \n",
       "1             Medium      Public       Negative                  4   \n",
       "2             Medium      Public        Neutral                  4   \n",
       "3             Medium      Public       Negative                  4   \n",
       "4               High      Public        Neutral                  4   \n",
       "...              ...         ...            ...                ...   \n",
       "6602          Medium      Public       Positive                  2   \n",
       "6603            High      Public       Positive                  2   \n",
       "6604          Medium      Public       Negative                  2   \n",
       "6605          Medium     Private       Positive                  3   \n",
       "6606          Medium      Public       Positive                  4   \n",
       "\n",
       "     Learning_Disabilities Parental_Education_Level Distance_from_Home  \\\n",
       "0                       No              High School               Near   \n",
       "1                       No                  College           Moderate   \n",
       "2                       No             Postgraduate               Near   \n",
       "3                       No              High School           Moderate   \n",
       "4                       No                  College               Near   \n",
       "...                    ...                      ...                ...   \n",
       "6602                    No              High School               Near   \n",
       "6603                    No              High School               Near   \n",
       "6604                    No             Postgraduate               Near   \n",
       "6605                    No              High School                Far   \n",
       "6606                    No             Postgraduate               Near   \n",
       "\n",
       "      Gender  Exam_Score  \n",
       "0       Male          67  \n",
       "1     Female          61  \n",
       "2       Male          74  \n",
       "3       Male          71  \n",
       "4     Female          70  \n",
       "...      ...         ...  \n",
       "6602  Female          68  \n",
       "6603  Female          69  \n",
       "6604  Female          68  \n",
       "6605  Female          68  \n",
       "6606    Male          64  \n",
       "\n",
       "[6607 rows x 20 columns]"
      ]
     },
     "execution_count": 3,
     "metadata": {},
     "output_type": "execute_result"
    }
   ],
   "source": [
    "df"
   ]
  },
  {
   "cell_type": "code",
   "execution_count": 4,
   "id": "f13db564-9b93-4b1c-94c7-62e6ae0b659b",
   "metadata": {},
   "outputs": [
    {
     "data": {
      "text/html": [
       "<div>\n",
       "<style scoped>\n",
       "    .dataframe tbody tr th:only-of-type {\n",
       "        vertical-align: middle;\n",
       "    }\n",
       "\n",
       "    .dataframe tbody tr th {\n",
       "        vertical-align: top;\n",
       "    }\n",
       "\n",
       "    .dataframe thead th {\n",
       "        text-align: right;\n",
       "    }\n",
       "</style>\n",
       "<table border=\"1\" class=\"dataframe\">\n",
       "  <thead>\n",
       "    <tr style=\"text-align: right;\">\n",
       "      <th></th>\n",
       "      <th>Hours_Studied</th>\n",
       "      <th>Attendance</th>\n",
       "      <th>Parental_Involvement</th>\n",
       "      <th>Access_to_Resources</th>\n",
       "      <th>Extracurricular_Activities</th>\n",
       "      <th>Sleep_Hours</th>\n",
       "      <th>Previous_Scores</th>\n",
       "      <th>Motivation_Level</th>\n",
       "      <th>Internet_Access</th>\n",
       "      <th>Tutoring_Sessions</th>\n",
       "      <th>Family_Income</th>\n",
       "      <th>Teacher_Quality</th>\n",
       "      <th>School_Type</th>\n",
       "      <th>Peer_Influence</th>\n",
       "      <th>Physical_Activity</th>\n",
       "      <th>Learning_Disabilities</th>\n",
       "      <th>Parental_Education_Level</th>\n",
       "      <th>Distance_from_Home</th>\n",
       "      <th>Gender</th>\n",
       "      <th>Exam_Score</th>\n",
       "    </tr>\n",
       "  </thead>\n",
       "  <tbody>\n",
       "    <tr>\n",
       "      <th>0</th>\n",
       "      <td>23</td>\n",
       "      <td>84</td>\n",
       "      <td>Low</td>\n",
       "      <td>High</td>\n",
       "      <td>No</td>\n",
       "      <td>7</td>\n",
       "      <td>73</td>\n",
       "      <td>Low</td>\n",
       "      <td>Yes</td>\n",
       "      <td>0</td>\n",
       "      <td>Low</td>\n",
       "      <td>Medium</td>\n",
       "      <td>Public</td>\n",
       "      <td>Positive</td>\n",
       "      <td>3</td>\n",
       "      <td>No</td>\n",
       "      <td>High School</td>\n",
       "      <td>Near</td>\n",
       "      <td>Male</td>\n",
       "      <td>67</td>\n",
       "    </tr>\n",
       "    <tr>\n",
       "      <th>1</th>\n",
       "      <td>19</td>\n",
       "      <td>64</td>\n",
       "      <td>Low</td>\n",
       "      <td>Medium</td>\n",
       "      <td>No</td>\n",
       "      <td>8</td>\n",
       "      <td>59</td>\n",
       "      <td>Low</td>\n",
       "      <td>Yes</td>\n",
       "      <td>2</td>\n",
       "      <td>Medium</td>\n",
       "      <td>Medium</td>\n",
       "      <td>Public</td>\n",
       "      <td>Negative</td>\n",
       "      <td>4</td>\n",
       "      <td>No</td>\n",
       "      <td>College</td>\n",
       "      <td>Moderate</td>\n",
       "      <td>Female</td>\n",
       "      <td>61</td>\n",
       "    </tr>\n",
       "    <tr>\n",
       "      <th>2</th>\n",
       "      <td>24</td>\n",
       "      <td>98</td>\n",
       "      <td>Medium</td>\n",
       "      <td>Medium</td>\n",
       "      <td>Yes</td>\n",
       "      <td>7</td>\n",
       "      <td>91</td>\n",
       "      <td>Medium</td>\n",
       "      <td>Yes</td>\n",
       "      <td>2</td>\n",
       "      <td>Medium</td>\n",
       "      <td>Medium</td>\n",
       "      <td>Public</td>\n",
       "      <td>Neutral</td>\n",
       "      <td>4</td>\n",
       "      <td>No</td>\n",
       "      <td>Postgraduate</td>\n",
       "      <td>Near</td>\n",
       "      <td>Male</td>\n",
       "      <td>74</td>\n",
       "    </tr>\n",
       "    <tr>\n",
       "      <th>3</th>\n",
       "      <td>29</td>\n",
       "      <td>89</td>\n",
       "      <td>Low</td>\n",
       "      <td>Medium</td>\n",
       "      <td>Yes</td>\n",
       "      <td>8</td>\n",
       "      <td>98</td>\n",
       "      <td>Medium</td>\n",
       "      <td>Yes</td>\n",
       "      <td>1</td>\n",
       "      <td>Medium</td>\n",
       "      <td>Medium</td>\n",
       "      <td>Public</td>\n",
       "      <td>Negative</td>\n",
       "      <td>4</td>\n",
       "      <td>No</td>\n",
       "      <td>High School</td>\n",
       "      <td>Moderate</td>\n",
       "      <td>Male</td>\n",
       "      <td>71</td>\n",
       "    </tr>\n",
       "    <tr>\n",
       "      <th>4</th>\n",
       "      <td>19</td>\n",
       "      <td>92</td>\n",
       "      <td>Medium</td>\n",
       "      <td>Medium</td>\n",
       "      <td>Yes</td>\n",
       "      <td>6</td>\n",
       "      <td>65</td>\n",
       "      <td>Medium</td>\n",
       "      <td>Yes</td>\n",
       "      <td>3</td>\n",
       "      <td>Medium</td>\n",
       "      <td>High</td>\n",
       "      <td>Public</td>\n",
       "      <td>Neutral</td>\n",
       "      <td>4</td>\n",
       "      <td>No</td>\n",
       "      <td>College</td>\n",
       "      <td>Near</td>\n",
       "      <td>Female</td>\n",
       "      <td>70</td>\n",
       "    </tr>\n",
       "  </tbody>\n",
       "</table>\n",
       "</div>"
      ],
      "text/plain": [
       "   Hours_Studied  Attendance Parental_Involvement Access_to_Resources  \\\n",
       "0             23          84                  Low                High   \n",
       "1             19          64                  Low              Medium   \n",
       "2             24          98               Medium              Medium   \n",
       "3             29          89                  Low              Medium   \n",
       "4             19          92               Medium              Medium   \n",
       "\n",
       "  Extracurricular_Activities  Sleep_Hours  Previous_Scores Motivation_Level  \\\n",
       "0                         No            7               73              Low   \n",
       "1                         No            8               59              Low   \n",
       "2                        Yes            7               91           Medium   \n",
       "3                        Yes            8               98           Medium   \n",
       "4                        Yes            6               65           Medium   \n",
       "\n",
       "  Internet_Access  Tutoring_Sessions Family_Income Teacher_Quality  \\\n",
       "0             Yes                  0           Low          Medium   \n",
       "1             Yes                  2        Medium          Medium   \n",
       "2             Yes                  2        Medium          Medium   \n",
       "3             Yes                  1        Medium          Medium   \n",
       "4             Yes                  3        Medium            High   \n",
       "\n",
       "  School_Type Peer_Influence  Physical_Activity Learning_Disabilities  \\\n",
       "0      Public       Positive                  3                    No   \n",
       "1      Public       Negative                  4                    No   \n",
       "2      Public        Neutral                  4                    No   \n",
       "3      Public       Negative                  4                    No   \n",
       "4      Public        Neutral                  4                    No   \n",
       "\n",
       "  Parental_Education_Level Distance_from_Home  Gender  Exam_Score  \n",
       "0              High School               Near    Male          67  \n",
       "1                  College           Moderate  Female          61  \n",
       "2             Postgraduate               Near    Male          74  \n",
       "3              High School           Moderate    Male          71  \n",
       "4                  College               Near  Female          70  "
      ]
     },
     "execution_count": 4,
     "metadata": {},
     "output_type": "execute_result"
    }
   ],
   "source": [
    "df.head()"
   ]
  },
  {
   "cell_type": "code",
   "execution_count": 5,
   "id": "0fc4aa3b-c775-4110-a0ce-6af76705fec1",
   "metadata": {},
   "outputs": [
    {
     "data": {
      "text/html": [
       "<div>\n",
       "<style scoped>\n",
       "    .dataframe tbody tr th:only-of-type {\n",
       "        vertical-align: middle;\n",
       "    }\n",
       "\n",
       "    .dataframe tbody tr th {\n",
       "        vertical-align: top;\n",
       "    }\n",
       "\n",
       "    .dataframe thead th {\n",
       "        text-align: right;\n",
       "    }\n",
       "</style>\n",
       "<table border=\"1\" class=\"dataframe\">\n",
       "  <thead>\n",
       "    <tr style=\"text-align: right;\">\n",
       "      <th></th>\n",
       "      <th>Hours_Studied</th>\n",
       "      <th>Attendance</th>\n",
       "      <th>Parental_Involvement</th>\n",
       "      <th>Access_to_Resources</th>\n",
       "      <th>Extracurricular_Activities</th>\n",
       "      <th>Sleep_Hours</th>\n",
       "      <th>Previous_Scores</th>\n",
       "      <th>Motivation_Level</th>\n",
       "      <th>Internet_Access</th>\n",
       "      <th>Tutoring_Sessions</th>\n",
       "      <th>Family_Income</th>\n",
       "      <th>Teacher_Quality</th>\n",
       "      <th>School_Type</th>\n",
       "      <th>Peer_Influence</th>\n",
       "      <th>Physical_Activity</th>\n",
       "      <th>Learning_Disabilities</th>\n",
       "      <th>Parental_Education_Level</th>\n",
       "      <th>Distance_from_Home</th>\n",
       "      <th>Gender</th>\n",
       "      <th>Exam_Score</th>\n",
       "    </tr>\n",
       "  </thead>\n",
       "  <tbody>\n",
       "    <tr>\n",
       "      <th>6602</th>\n",
       "      <td>25</td>\n",
       "      <td>69</td>\n",
       "      <td>High</td>\n",
       "      <td>Medium</td>\n",
       "      <td>No</td>\n",
       "      <td>7</td>\n",
       "      <td>76</td>\n",
       "      <td>Medium</td>\n",
       "      <td>Yes</td>\n",
       "      <td>1</td>\n",
       "      <td>High</td>\n",
       "      <td>Medium</td>\n",
       "      <td>Public</td>\n",
       "      <td>Positive</td>\n",
       "      <td>2</td>\n",
       "      <td>No</td>\n",
       "      <td>High School</td>\n",
       "      <td>Near</td>\n",
       "      <td>Female</td>\n",
       "      <td>68</td>\n",
       "    </tr>\n",
       "    <tr>\n",
       "      <th>6603</th>\n",
       "      <td>23</td>\n",
       "      <td>76</td>\n",
       "      <td>High</td>\n",
       "      <td>Medium</td>\n",
       "      <td>No</td>\n",
       "      <td>8</td>\n",
       "      <td>81</td>\n",
       "      <td>Medium</td>\n",
       "      <td>Yes</td>\n",
       "      <td>3</td>\n",
       "      <td>Low</td>\n",
       "      <td>High</td>\n",
       "      <td>Public</td>\n",
       "      <td>Positive</td>\n",
       "      <td>2</td>\n",
       "      <td>No</td>\n",
       "      <td>High School</td>\n",
       "      <td>Near</td>\n",
       "      <td>Female</td>\n",
       "      <td>69</td>\n",
       "    </tr>\n",
       "    <tr>\n",
       "      <th>6604</th>\n",
       "      <td>20</td>\n",
       "      <td>90</td>\n",
       "      <td>Medium</td>\n",
       "      <td>Low</td>\n",
       "      <td>Yes</td>\n",
       "      <td>6</td>\n",
       "      <td>65</td>\n",
       "      <td>Low</td>\n",
       "      <td>Yes</td>\n",
       "      <td>3</td>\n",
       "      <td>Low</td>\n",
       "      <td>Medium</td>\n",
       "      <td>Public</td>\n",
       "      <td>Negative</td>\n",
       "      <td>2</td>\n",
       "      <td>No</td>\n",
       "      <td>Postgraduate</td>\n",
       "      <td>Near</td>\n",
       "      <td>Female</td>\n",
       "      <td>68</td>\n",
       "    </tr>\n",
       "    <tr>\n",
       "      <th>6605</th>\n",
       "      <td>10</td>\n",
       "      <td>86</td>\n",
       "      <td>High</td>\n",
       "      <td>High</td>\n",
       "      <td>Yes</td>\n",
       "      <td>6</td>\n",
       "      <td>91</td>\n",
       "      <td>High</td>\n",
       "      <td>Yes</td>\n",
       "      <td>2</td>\n",
       "      <td>Low</td>\n",
       "      <td>Medium</td>\n",
       "      <td>Private</td>\n",
       "      <td>Positive</td>\n",
       "      <td>3</td>\n",
       "      <td>No</td>\n",
       "      <td>High School</td>\n",
       "      <td>Far</td>\n",
       "      <td>Female</td>\n",
       "      <td>68</td>\n",
       "    </tr>\n",
       "    <tr>\n",
       "      <th>6606</th>\n",
       "      <td>15</td>\n",
       "      <td>67</td>\n",
       "      <td>Medium</td>\n",
       "      <td>Low</td>\n",
       "      <td>Yes</td>\n",
       "      <td>9</td>\n",
       "      <td>94</td>\n",
       "      <td>Medium</td>\n",
       "      <td>Yes</td>\n",
       "      <td>0</td>\n",
       "      <td>Medium</td>\n",
       "      <td>Medium</td>\n",
       "      <td>Public</td>\n",
       "      <td>Positive</td>\n",
       "      <td>4</td>\n",
       "      <td>No</td>\n",
       "      <td>Postgraduate</td>\n",
       "      <td>Near</td>\n",
       "      <td>Male</td>\n",
       "      <td>64</td>\n",
       "    </tr>\n",
       "  </tbody>\n",
       "</table>\n",
       "</div>"
      ],
      "text/plain": [
       "      Hours_Studied  Attendance Parental_Involvement Access_to_Resources  \\\n",
       "6602             25          69                 High              Medium   \n",
       "6603             23          76                 High              Medium   \n",
       "6604             20          90               Medium                 Low   \n",
       "6605             10          86                 High                High   \n",
       "6606             15          67               Medium                 Low   \n",
       "\n",
       "     Extracurricular_Activities  Sleep_Hours  Previous_Scores  \\\n",
       "6602                         No            7               76   \n",
       "6603                         No            8               81   \n",
       "6604                        Yes            6               65   \n",
       "6605                        Yes            6               91   \n",
       "6606                        Yes            9               94   \n",
       "\n",
       "     Motivation_Level Internet_Access  Tutoring_Sessions Family_Income  \\\n",
       "6602           Medium             Yes                  1          High   \n",
       "6603           Medium             Yes                  3           Low   \n",
       "6604              Low             Yes                  3           Low   \n",
       "6605             High             Yes                  2           Low   \n",
       "6606           Medium             Yes                  0        Medium   \n",
       "\n",
       "     Teacher_Quality School_Type Peer_Influence  Physical_Activity  \\\n",
       "6602          Medium      Public       Positive                  2   \n",
       "6603            High      Public       Positive                  2   \n",
       "6604          Medium      Public       Negative                  2   \n",
       "6605          Medium     Private       Positive                  3   \n",
       "6606          Medium      Public       Positive                  4   \n",
       "\n",
       "     Learning_Disabilities Parental_Education_Level Distance_from_Home  \\\n",
       "6602                    No              High School               Near   \n",
       "6603                    No              High School               Near   \n",
       "6604                    No             Postgraduate               Near   \n",
       "6605                    No              High School                Far   \n",
       "6606                    No             Postgraduate               Near   \n",
       "\n",
       "      Gender  Exam_Score  \n",
       "6602  Female          68  \n",
       "6603  Female          69  \n",
       "6604  Female          68  \n",
       "6605  Female          68  \n",
       "6606    Male          64  "
      ]
     },
     "execution_count": 5,
     "metadata": {},
     "output_type": "execute_result"
    }
   ],
   "source": [
    "df.tail()"
   ]
  },
  {
   "cell_type": "code",
   "execution_count": 6,
   "id": "4300727d-b5d4-4d58-9734-fecd9345d9be",
   "metadata": {},
   "outputs": [
    {
     "data": {
      "text/plain": [
       "(6607, 20)"
      ]
     },
     "execution_count": 6,
     "metadata": {},
     "output_type": "execute_result"
    }
   ],
   "source": [
    "df.shape"
   ]
  },
  {
   "cell_type": "code",
   "execution_count": 7,
   "id": "7721cbc2-62db-4e10-8807-a25d6abbe6b4",
   "metadata": {},
   "outputs": [
    {
     "data": {
      "text/plain": [
       "['Hours_Studied',\n",
       " 'Attendance',\n",
       " 'Parental_Involvement',\n",
       " 'Access_to_Resources',\n",
       " 'Extracurricular_Activities',\n",
       " 'Sleep_Hours',\n",
       " 'Previous_Scores',\n",
       " 'Motivation_Level',\n",
       " 'Internet_Access',\n",
       " 'Tutoring_Sessions',\n",
       " 'Family_Income',\n",
       " 'Teacher_Quality',\n",
       " 'School_Type',\n",
       " 'Peer_Influence',\n",
       " 'Physical_Activity',\n",
       " 'Learning_Disabilities',\n",
       " 'Parental_Education_Level',\n",
       " 'Distance_from_Home',\n",
       " 'Gender',\n",
       " 'Exam_Score']"
      ]
     },
     "execution_count": 7,
     "metadata": {},
     "output_type": "execute_result"
    }
   ],
   "source": [
    "df.columns.tolist()"
   ]
  },
  {
   "cell_type": "code",
   "execution_count": 8,
   "id": "2ae10895-6c9e-452c-b4fb-4d54efcda56d",
   "metadata": {},
   "outputs": [
    {
     "name": "stdout",
     "output_type": "stream",
     "text": [
      "<class 'pandas.core.frame.DataFrame'>\n",
      "RangeIndex: 6607 entries, 0 to 6606\n",
      "Data columns (total 20 columns):\n",
      " #   Column                      Non-Null Count  Dtype \n",
      "---  ------                      --------------  ----- \n",
      " 0   Hours_Studied               6607 non-null   int64 \n",
      " 1   Attendance                  6607 non-null   int64 \n",
      " 2   Parental_Involvement        6607 non-null   object\n",
      " 3   Access_to_Resources         6607 non-null   object\n",
      " 4   Extracurricular_Activities  6607 non-null   object\n",
      " 5   Sleep_Hours                 6607 non-null   int64 \n",
      " 6   Previous_Scores             6607 non-null   int64 \n",
      " 7   Motivation_Level            6607 non-null   object\n",
      " 8   Internet_Access             6607 non-null   object\n",
      " 9   Tutoring_Sessions           6607 non-null   int64 \n",
      " 10  Family_Income               6607 non-null   object\n",
      " 11  Teacher_Quality             6529 non-null   object\n",
      " 12  School_Type                 6607 non-null   object\n",
      " 13  Peer_Influence              6607 non-null   object\n",
      " 14  Physical_Activity           6607 non-null   int64 \n",
      " 15  Learning_Disabilities       6607 non-null   object\n",
      " 16  Parental_Education_Level    6517 non-null   object\n",
      " 17  Distance_from_Home          6540 non-null   object\n",
      " 18  Gender                      6607 non-null   object\n",
      " 19  Exam_Score                  6607 non-null   int64 \n",
      "dtypes: int64(7), object(13)\n",
      "memory usage: 1.0+ MB\n"
     ]
    }
   ],
   "source": [
    "df.info()"
   ]
  },
  {
   "cell_type": "code",
   "execution_count": 9,
   "id": "f1223017-e55f-4e7f-b5ea-d681e1845916",
   "metadata": {},
   "outputs": [
    {
     "data": {
      "text/plain": [
       "array([23, 19, 24, 29, 25, 17, 21,  9, 10, 14, 22, 15, 12, 20, 11, 13, 16,\n",
       "       18, 31,  8, 26, 28,  4, 35, 27, 33, 36, 43, 34,  1, 30,  7, 32,  6,\n",
       "       38,  5,  3,  2, 39, 37, 44])"
      ]
     },
     "execution_count": 9,
     "metadata": {},
     "output_type": "execute_result"
    }
   ],
   "source": [
    "df[\"Hours_Studied\"].unique()"
   ]
  },
  {
   "cell_type": "code",
   "execution_count": 10,
   "id": "ed595d8f-7490-4601-908e-d1c178eb6123",
   "metadata": {},
   "outputs": [
    {
     "data": {
      "text/plain": [
       "41"
      ]
     },
     "execution_count": 10,
     "metadata": {},
     "output_type": "execute_result"
    }
   ],
   "source": [
    "df[\"Hours_Studied\"].nunique()"
   ]
  },
  {
   "cell_type": "code",
   "execution_count": 11,
   "id": "c3ff390a-a236-4a81-832b-be041939307f",
   "metadata": {},
   "outputs": [
    {
     "data": {
      "text/plain": [
       "array([ 84,  64,  98,  89,  92,  88,  78,  94,  80,  97,  83,  82,  68,\n",
       "        60,  70,  75,  99,  74,  65,  62,  91,  90,  66,  69,  72,  63,\n",
       "        61,  86,  77,  71,  67,  87,  73,  96, 100,  81,  95,  79,  85,\n",
       "        76,  93])"
      ]
     },
     "execution_count": 11,
     "metadata": {},
     "output_type": "execute_result"
    }
   ],
   "source": [
    "df[\"Attendance\"].unique()"
   ]
  },
  {
   "cell_type": "code",
   "execution_count": 12,
   "id": "643e7d78-1ab0-4092-a708-6229df3c931e",
   "metadata": {},
   "outputs": [
    {
     "data": {
      "text/plain": [
       "41"
      ]
     },
     "execution_count": 12,
     "metadata": {},
     "output_type": "execute_result"
    }
   ],
   "source": [
    "df[\"Attendance\"].nunique()"
   ]
  },
  {
   "cell_type": "code",
   "execution_count": 13,
   "id": "338abb3f-608b-4f29-ae27-2d69c396b9a8",
   "metadata": {},
   "outputs": [
    {
     "data": {
      "text/plain": [
       "array(['Low', 'Medium', 'High'], dtype=object)"
      ]
     },
     "execution_count": 13,
     "metadata": {},
     "output_type": "execute_result"
    }
   ],
   "source": [
    "df[\"Parental_Involvement\"].unique()"
   ]
  },
  {
   "cell_type": "code",
   "execution_count": 14,
   "id": "ac0ec2d1-9497-40b7-b4a4-30c0dfe2a6d2",
   "metadata": {},
   "outputs": [
    {
     "data": {
      "text/plain": [
       "3"
      ]
     },
     "execution_count": 14,
     "metadata": {},
     "output_type": "execute_result"
    }
   ],
   "source": [
    "df[\"Parental_Involvement\"].nunique()"
   ]
  },
  {
   "cell_type": "code",
   "execution_count": 15,
   "id": "59a5d1f9-9d21-4dcb-a213-dee33cec48d4",
   "metadata": {},
   "outputs": [
    {
     "data": {
      "text/plain": [
       "array(['High', 'Medium', 'Low'], dtype=object)"
      ]
     },
     "execution_count": 15,
     "metadata": {},
     "output_type": "execute_result"
    }
   ],
   "source": [
    "df[\"Access_to_Resources\"].unique()"
   ]
  },
  {
   "cell_type": "code",
   "execution_count": 16,
   "id": "bf3175c1-ca11-4db2-9394-5e19b730b350",
   "metadata": {},
   "outputs": [
    {
     "data": {
      "text/plain": [
       "3"
      ]
     },
     "execution_count": 16,
     "metadata": {},
     "output_type": "execute_result"
    }
   ],
   "source": [
    "df[\"Access_to_Resources\"].nunique()"
   ]
  },
  {
   "cell_type": "code",
   "execution_count": 17,
   "id": "48b7a404-7bd0-4894-9dec-ca6d21519983",
   "metadata": {},
   "outputs": [
    {
     "data": {
      "text/plain": [
       "array(['No', 'Yes'], dtype=object)"
      ]
     },
     "execution_count": 17,
     "metadata": {},
     "output_type": "execute_result"
    }
   ],
   "source": [
    "df[\"Extracurricular_Activities\"].unique()"
   ]
  },
  {
   "cell_type": "code",
   "execution_count": 18,
   "id": "136c378c-e1d7-49a4-aa22-e89baf70a94b",
   "metadata": {},
   "outputs": [
    {
     "data": {
      "text/plain": [
       "2"
      ]
     },
     "execution_count": 18,
     "metadata": {},
     "output_type": "execute_result"
    }
   ],
   "source": [
    "df[\"Extracurricular_Activities\"].nunique()"
   ]
  },
  {
   "cell_type": "code",
   "execution_count": 19,
   "id": "8c408595-48a1-406f-bf12-2941a2c8529c",
   "metadata": {},
   "outputs": [
    {
     "data": {
      "text/plain": [
       "array([ 7,  8,  6, 10,  9,  5,  4])"
      ]
     },
     "execution_count": 19,
     "metadata": {},
     "output_type": "execute_result"
    }
   ],
   "source": [
    "df[\"Sleep_Hours\"].unique()"
   ]
  },
  {
   "cell_type": "code",
   "execution_count": 20,
   "id": "97d1f195-a58f-4c7d-af7d-737193d2d563",
   "metadata": {},
   "outputs": [
    {
     "data": {
      "text/plain": [
       "7"
      ]
     },
     "execution_count": 20,
     "metadata": {},
     "output_type": "execute_result"
    }
   ],
   "source": [
    "df[\"Sleep_Hours\"].nunique()"
   ]
  },
  {
   "cell_type": "code",
   "execution_count": 21,
   "id": "387a5334-c90e-4f23-b41b-a5da795e4a7f",
   "metadata": {},
   "outputs": [
    {
     "data": {
      "text/plain": [
       "array([ 73,  59,  91,  98,  65,  89,  68,  50,  80,  71,  88,  87,  97,\n",
       "        72,  74,  70,  82,  58,  99,  84, 100,  75,  54,  90,  94,  51,\n",
       "        57,  66,  96,  93,  56,  52,  63,  79,  81,  69,  95,  60,  92,\n",
       "        77,  62,  85,  78,  64,  76,  55,  86,  61,  53,  83,  67])"
      ]
     },
     "execution_count": 21,
     "metadata": {},
     "output_type": "execute_result"
    }
   ],
   "source": [
    "df[\"Previous_Scores\"].unique()"
   ]
  },
  {
   "cell_type": "code",
   "execution_count": 22,
   "id": "7e04cbea-a9e5-4a40-86bf-5e894eb6c9e2",
   "metadata": {},
   "outputs": [
    {
     "data": {
      "text/plain": [
       "51"
      ]
     },
     "execution_count": 22,
     "metadata": {},
     "output_type": "execute_result"
    }
   ],
   "source": [
    "df[\"Previous_Scores\"].nunique()"
   ]
  },
  {
   "cell_type": "code",
   "execution_count": 23,
   "id": "5c8c0223-2b3d-4fec-b005-a491897ccc59",
   "metadata": {},
   "outputs": [
    {
     "data": {
      "text/plain": [
       "array(['Low', 'Medium', 'High'], dtype=object)"
      ]
     },
     "execution_count": 23,
     "metadata": {},
     "output_type": "execute_result"
    }
   ],
   "source": [
    "df[\"Motivation_Level\"].unique()"
   ]
  },
  {
   "cell_type": "code",
   "execution_count": 24,
   "id": "bd2aefed-f26e-47d5-a163-94d6bf208a55",
   "metadata": {},
   "outputs": [
    {
     "data": {
      "text/plain": [
       "3"
      ]
     },
     "execution_count": 24,
     "metadata": {},
     "output_type": "execute_result"
    }
   ],
   "source": [
    "df[\"Motivation_Level\"].nunique()"
   ]
  },
  {
   "cell_type": "code",
   "execution_count": 25,
   "id": "ddd6eb12-4340-48c0-81a2-d6e5ed1599e4",
   "metadata": {},
   "outputs": [
    {
     "data": {
      "text/plain": [
       "array(['Yes', 'No'], dtype=object)"
      ]
     },
     "execution_count": 25,
     "metadata": {},
     "output_type": "execute_result"
    }
   ],
   "source": [
    "df[\"Internet_Access\"].unique()"
   ]
  },
  {
   "cell_type": "code",
   "execution_count": 26,
   "id": "fb3d8102-a9d9-4697-8315-565683eca0ca",
   "metadata": {},
   "outputs": [
    {
     "data": {
      "text/plain": [
       "2"
      ]
     },
     "execution_count": 26,
     "metadata": {},
     "output_type": "execute_result"
    }
   ],
   "source": [
    "df[\"Internet_Access\"].nunique()"
   ]
  },
  {
   "cell_type": "code",
   "execution_count": 27,
   "id": "a2d2f0fe-6adb-490e-ba4d-6ff1653d82ba",
   "metadata": {},
   "outputs": [
    {
     "data": {
      "text/plain": [
       "array([0, 2, 1, 3, 4, 5, 6, 7, 8])"
      ]
     },
     "execution_count": 27,
     "metadata": {},
     "output_type": "execute_result"
    }
   ],
   "source": [
    "df[\"Tutoring_Sessions\"].unique()"
   ]
  },
  {
   "cell_type": "code",
   "execution_count": 28,
   "id": "e07e0033-2519-4f53-8f63-036a0ca5f9e9",
   "metadata": {},
   "outputs": [
    {
     "data": {
      "text/plain": [
       "9"
      ]
     },
     "execution_count": 28,
     "metadata": {},
     "output_type": "execute_result"
    }
   ],
   "source": [
    "df[\"Tutoring_Sessions\"].nunique()\n"
   ]
  },
  {
   "cell_type": "code",
   "execution_count": 29,
   "id": "6a62d373-f4cb-4092-bb89-d1184c7ab188",
   "metadata": {},
   "outputs": [
    {
     "data": {
      "text/plain": [
       "array(['Low', 'Medium', 'High'], dtype=object)"
      ]
     },
     "execution_count": 29,
     "metadata": {},
     "output_type": "execute_result"
    }
   ],
   "source": [
    "df[\"Family_Income\"].unique()"
   ]
  },
  {
   "cell_type": "code",
   "execution_count": 30,
   "id": "6a800ebc-4270-460d-a753-052d7921642d",
   "metadata": {},
   "outputs": [
    {
     "data": {
      "text/plain": [
       "3"
      ]
     },
     "execution_count": 30,
     "metadata": {},
     "output_type": "execute_result"
    }
   ],
   "source": [
    "df[\"Family_Income\"].nunique()"
   ]
  },
  {
   "cell_type": "code",
   "execution_count": 31,
   "id": "9d63a8a7-b23d-4ef4-99cc-1f75dcd1f88f",
   "metadata": {},
   "outputs": [
    {
     "data": {
      "text/plain": [
       "array(['Medium', 'High', 'Low', nan], dtype=object)"
      ]
     },
     "execution_count": 31,
     "metadata": {},
     "output_type": "execute_result"
    }
   ],
   "source": [
    "df[\"Teacher_Quality\"].unique()"
   ]
  },
  {
   "cell_type": "code",
   "execution_count": 32,
   "id": "0c3a0382-c89b-435b-a0d6-e6c01917433a",
   "metadata": {},
   "outputs": [
    {
     "data": {
      "text/plain": [
       "3"
      ]
     },
     "execution_count": 32,
     "metadata": {},
     "output_type": "execute_result"
    }
   ],
   "source": [
    "df[\"Teacher_Quality\"].nunique()"
   ]
  },
  {
   "cell_type": "code",
   "execution_count": 33,
   "id": "bc75b816-6475-45b6-9598-d21d78c9c751",
   "metadata": {},
   "outputs": [
    {
     "data": {
      "text/plain": [
       "array(['Public', 'Private'], dtype=object)"
      ]
     },
     "execution_count": 33,
     "metadata": {},
     "output_type": "execute_result"
    }
   ],
   "source": [
    "df[\"School_Type\"].unique()"
   ]
  },
  {
   "cell_type": "code",
   "execution_count": 34,
   "id": "29be2b9c-4175-4d8a-b902-87c8c2f4d26f",
   "metadata": {},
   "outputs": [
    {
     "data": {
      "text/plain": [
       "2"
      ]
     },
     "execution_count": 34,
     "metadata": {},
     "output_type": "execute_result"
    }
   ],
   "source": [
    "df[\"School_Type\"].nunique()"
   ]
  },
  {
   "cell_type": "code",
   "execution_count": 35,
   "id": "f7347e92-ee94-43cc-bb62-18acff035f45",
   "metadata": {},
   "outputs": [
    {
     "data": {
      "text/plain": [
       "array(['Positive', 'Negative', 'Neutral'], dtype=object)"
      ]
     },
     "execution_count": 35,
     "metadata": {},
     "output_type": "execute_result"
    }
   ],
   "source": [
    "df[\"Peer_Influence\"].unique()"
   ]
  },
  {
   "cell_type": "code",
   "execution_count": 36,
   "id": "966c10a6-5b6b-4f38-a09b-7efa1d3d87d2",
   "metadata": {},
   "outputs": [
    {
     "data": {
      "text/plain": [
       "3"
      ]
     },
     "execution_count": 36,
     "metadata": {},
     "output_type": "execute_result"
    }
   ],
   "source": [
    "df[\"Peer_Influence\"].nunique()\n"
   ]
  },
  {
   "cell_type": "code",
   "execution_count": 37,
   "id": "496b60bc-2a63-45c1-802b-094822988c90",
   "metadata": {},
   "outputs": [
    {
     "data": {
      "text/plain": [
       "array([3, 4, 2, 1, 5, 0, 6])"
      ]
     },
     "execution_count": 37,
     "metadata": {},
     "output_type": "execute_result"
    }
   ],
   "source": [
    "df[\"Physical_Activity\"].unique()"
   ]
  },
  {
   "cell_type": "code",
   "execution_count": 38,
   "id": "d9904d68-80b2-4b1a-954f-3a62f3a24feb",
   "metadata": {},
   "outputs": [
    {
     "data": {
      "text/plain": [
       "7"
      ]
     },
     "execution_count": 38,
     "metadata": {},
     "output_type": "execute_result"
    }
   ],
   "source": [
    "df[\"Physical_Activity\"].nunique()"
   ]
  },
  {
   "cell_type": "code",
   "execution_count": 39,
   "id": "f9b055ae-ec22-44b4-a9de-6e69a3ddc666",
   "metadata": {},
   "outputs": [
    {
     "data": {
      "text/plain": [
       "array(['No', 'Yes'], dtype=object)"
      ]
     },
     "execution_count": 39,
     "metadata": {},
     "output_type": "execute_result"
    }
   ],
   "source": [
    "df[\"Learning_Disabilities\"].unique()"
   ]
  },
  {
   "cell_type": "code",
   "execution_count": 40,
   "id": "92e8c922-2037-4a13-ab49-0c9ba0bbc1cc",
   "metadata": {},
   "outputs": [
    {
     "data": {
      "text/plain": [
       "2"
      ]
     },
     "execution_count": 40,
     "metadata": {},
     "output_type": "execute_result"
    }
   ],
   "source": [
    "df[\"Learning_Disabilities\"].nunique()"
   ]
  },
  {
   "cell_type": "code",
   "execution_count": 41,
   "id": "83b0eb5d-5fea-4dbc-bd25-ddf7549df639",
   "metadata": {},
   "outputs": [
    {
     "data": {
      "text/plain": [
       "array(['High School', 'College', 'Postgraduate', nan], dtype=object)"
      ]
     },
     "execution_count": 41,
     "metadata": {},
     "output_type": "execute_result"
    }
   ],
   "source": [
    "df[\"Parental_Education_Level\"].unique()"
   ]
  },
  {
   "cell_type": "code",
   "execution_count": 42,
   "id": "e58e9300-2b75-4568-b559-a42e6f7933e7",
   "metadata": {},
   "outputs": [
    {
     "data": {
      "text/plain": [
       "3"
      ]
     },
     "execution_count": 42,
     "metadata": {},
     "output_type": "execute_result"
    }
   ],
   "source": [
    "df[\"Parental_Education_Level\"].nunique()"
   ]
  },
  {
   "cell_type": "code",
   "execution_count": 43,
   "id": "f9ccf6ed-d77c-4f75-9c00-45cedf0ab4a9",
   "metadata": {},
   "outputs": [
    {
     "data": {
      "text/plain": [
       "array(['Near', 'Moderate', 'Far', nan], dtype=object)"
      ]
     },
     "execution_count": 43,
     "metadata": {},
     "output_type": "execute_result"
    }
   ],
   "source": [
    "df[\"Distance_from_Home\"].unique()"
   ]
  },
  {
   "cell_type": "code",
   "execution_count": 44,
   "id": "43e17050-0005-4ece-903e-1d9bd83171c2",
   "metadata": {},
   "outputs": [
    {
     "data": {
      "text/plain": [
       "3"
      ]
     },
     "execution_count": 44,
     "metadata": {},
     "output_type": "execute_result"
    }
   ],
   "source": [
    "df[\"Distance_from_Home\"].nunique()"
   ]
  },
  {
   "cell_type": "code",
   "execution_count": 45,
   "id": "5d4c898f-7660-40b3-a0e3-009052f42e29",
   "metadata": {},
   "outputs": [
    {
     "data": {
      "text/plain": [
       "array(['Male', 'Female'], dtype=object)"
      ]
     },
     "execution_count": 45,
     "metadata": {},
     "output_type": "execute_result"
    }
   ],
   "source": [
    "df[\"Gender\"].unique()"
   ]
  },
  {
   "cell_type": "code",
   "execution_count": 46,
   "id": "74d0a429-ef30-4a23-bb7a-f9392cc87e0c",
   "metadata": {},
   "outputs": [
    {
     "data": {
      "text/plain": [
       "2"
      ]
     },
     "execution_count": 46,
     "metadata": {},
     "output_type": "execute_result"
    }
   ],
   "source": [
    "df[\"Gender\"].nunique()"
   ]
  },
  {
   "cell_type": "code",
   "execution_count": 47,
   "id": "34d09c0b-a929-46b5-9c80-5b35edc8cc0d",
   "metadata": {},
   "outputs": [
    {
     "data": {
      "text/plain": [
       "array([ 67,  61,  74,  71,  70,  66,  69,  72,  68,  65,  64,  60,  63,\n",
       "        62, 100,  76,  79,  73,  78,  89,  75,  59,  86,  97,  83,  84,\n",
       "        80,  58,  94,  55,  92,  82,  77, 101,  88,  91,  99,  87,  57,\n",
       "        96,  98,  95,  85,  93,  56])"
      ]
     },
     "execution_count": 47,
     "metadata": {},
     "output_type": "execute_result"
    }
   ],
   "source": [
    "df[\"Exam_Score\"].unique()"
   ]
  },
  {
   "cell_type": "code",
   "execution_count": 48,
   "id": "43a9a288-d0a6-4070-85ab-bc059d487f7a",
   "metadata": {},
   "outputs": [
    {
     "data": {
      "text/plain": [
       "45"
      ]
     },
     "execution_count": 48,
     "metadata": {},
     "output_type": "execute_result"
    }
   ],
   "source": [
    "df[\"Exam_Score\"].nunique()"
   ]
  },
  {
   "cell_type": "markdown",
   "id": "c009535e-89be-495a-a44d-4d62de9cba0a",
   "metadata": {},
   "source": [
    "**Renamig a column name**"
   ]
  },
  {
   "cell_type": "code",
   "execution_count": 49,
   "id": "58ca8cec-27e9-470f-8d2c-aad41f39f6d6",
   "metadata": {},
   "outputs": [],
   "source": [
    "df.rename(columns={\"Exam_Score\":\"Present_Score\"}, inplace=True)"
   ]
  },
  {
   "cell_type": "markdown",
   "id": "9301c99d-40c9-445e-90ad-c02b0a418358",
   "metadata": {},
   "source": [
    "**Droping Columns**"
   ]
  },
  {
   "cell_type": "code",
   "execution_count": 50,
   "id": "86066841-b3df-4836-a205-c132ca19c620",
   "metadata": {},
   "outputs": [],
   "source": [
    "df.drop([\"Access_to_Resources\",\"Internet_Access\",\"Gender\",\"Peer_Influence\",\"School_Type\",\"Family_Income\"],axis=1,inplace=True)"
   ]
  },
  {
   "cell_type": "code",
   "execution_count": 51,
   "id": "6fff9f8f-062f-4579-8894-f3a45d07cb11",
   "metadata": {},
   "outputs": [
    {
     "data": {
      "text/html": [
       "<div>\n",
       "<style scoped>\n",
       "    .dataframe tbody tr th:only-of-type {\n",
       "        vertical-align: middle;\n",
       "    }\n",
       "\n",
       "    .dataframe tbody tr th {\n",
       "        vertical-align: top;\n",
       "    }\n",
       "\n",
       "    .dataframe thead th {\n",
       "        text-align: right;\n",
       "    }\n",
       "</style>\n",
       "<table border=\"1\" class=\"dataframe\">\n",
       "  <thead>\n",
       "    <tr style=\"text-align: right;\">\n",
       "      <th></th>\n",
       "      <th>Hours_Studied</th>\n",
       "      <th>Attendance</th>\n",
       "      <th>Parental_Involvement</th>\n",
       "      <th>Extracurricular_Activities</th>\n",
       "      <th>Sleep_Hours</th>\n",
       "      <th>Previous_Scores</th>\n",
       "      <th>Motivation_Level</th>\n",
       "      <th>Tutoring_Sessions</th>\n",
       "      <th>Teacher_Quality</th>\n",
       "      <th>Physical_Activity</th>\n",
       "      <th>Learning_Disabilities</th>\n",
       "      <th>Parental_Education_Level</th>\n",
       "      <th>Distance_from_Home</th>\n",
       "      <th>Present_Score</th>\n",
       "    </tr>\n",
       "  </thead>\n",
       "  <tbody>\n",
       "    <tr>\n",
       "      <th>0</th>\n",
       "      <td>23</td>\n",
       "      <td>84</td>\n",
       "      <td>Low</td>\n",
       "      <td>No</td>\n",
       "      <td>7</td>\n",
       "      <td>73</td>\n",
       "      <td>Low</td>\n",
       "      <td>0</td>\n",
       "      <td>Medium</td>\n",
       "      <td>3</td>\n",
       "      <td>No</td>\n",
       "      <td>High School</td>\n",
       "      <td>Near</td>\n",
       "      <td>67</td>\n",
       "    </tr>\n",
       "    <tr>\n",
       "      <th>1</th>\n",
       "      <td>19</td>\n",
       "      <td>64</td>\n",
       "      <td>Low</td>\n",
       "      <td>No</td>\n",
       "      <td>8</td>\n",
       "      <td>59</td>\n",
       "      <td>Low</td>\n",
       "      <td>2</td>\n",
       "      <td>Medium</td>\n",
       "      <td>4</td>\n",
       "      <td>No</td>\n",
       "      <td>College</td>\n",
       "      <td>Moderate</td>\n",
       "      <td>61</td>\n",
       "    </tr>\n",
       "    <tr>\n",
       "      <th>2</th>\n",
       "      <td>24</td>\n",
       "      <td>98</td>\n",
       "      <td>Medium</td>\n",
       "      <td>Yes</td>\n",
       "      <td>7</td>\n",
       "      <td>91</td>\n",
       "      <td>Medium</td>\n",
       "      <td>2</td>\n",
       "      <td>Medium</td>\n",
       "      <td>4</td>\n",
       "      <td>No</td>\n",
       "      <td>Postgraduate</td>\n",
       "      <td>Near</td>\n",
       "      <td>74</td>\n",
       "    </tr>\n",
       "    <tr>\n",
       "      <th>3</th>\n",
       "      <td>29</td>\n",
       "      <td>89</td>\n",
       "      <td>Low</td>\n",
       "      <td>Yes</td>\n",
       "      <td>8</td>\n",
       "      <td>98</td>\n",
       "      <td>Medium</td>\n",
       "      <td>1</td>\n",
       "      <td>Medium</td>\n",
       "      <td>4</td>\n",
       "      <td>No</td>\n",
       "      <td>High School</td>\n",
       "      <td>Moderate</td>\n",
       "      <td>71</td>\n",
       "    </tr>\n",
       "    <tr>\n",
       "      <th>4</th>\n",
       "      <td>19</td>\n",
       "      <td>92</td>\n",
       "      <td>Medium</td>\n",
       "      <td>Yes</td>\n",
       "      <td>6</td>\n",
       "      <td>65</td>\n",
       "      <td>Medium</td>\n",
       "      <td>3</td>\n",
       "      <td>High</td>\n",
       "      <td>4</td>\n",
       "      <td>No</td>\n",
       "      <td>College</td>\n",
       "      <td>Near</td>\n",
       "      <td>70</td>\n",
       "    </tr>\n",
       "    <tr>\n",
       "      <th>...</th>\n",
       "      <td>...</td>\n",
       "      <td>...</td>\n",
       "      <td>...</td>\n",
       "      <td>...</td>\n",
       "      <td>...</td>\n",
       "      <td>...</td>\n",
       "      <td>...</td>\n",
       "      <td>...</td>\n",
       "      <td>...</td>\n",
       "      <td>...</td>\n",
       "      <td>...</td>\n",
       "      <td>...</td>\n",
       "      <td>...</td>\n",
       "      <td>...</td>\n",
       "    </tr>\n",
       "    <tr>\n",
       "      <th>6602</th>\n",
       "      <td>25</td>\n",
       "      <td>69</td>\n",
       "      <td>High</td>\n",
       "      <td>No</td>\n",
       "      <td>7</td>\n",
       "      <td>76</td>\n",
       "      <td>Medium</td>\n",
       "      <td>1</td>\n",
       "      <td>Medium</td>\n",
       "      <td>2</td>\n",
       "      <td>No</td>\n",
       "      <td>High School</td>\n",
       "      <td>Near</td>\n",
       "      <td>68</td>\n",
       "    </tr>\n",
       "    <tr>\n",
       "      <th>6603</th>\n",
       "      <td>23</td>\n",
       "      <td>76</td>\n",
       "      <td>High</td>\n",
       "      <td>No</td>\n",
       "      <td>8</td>\n",
       "      <td>81</td>\n",
       "      <td>Medium</td>\n",
       "      <td>3</td>\n",
       "      <td>High</td>\n",
       "      <td>2</td>\n",
       "      <td>No</td>\n",
       "      <td>High School</td>\n",
       "      <td>Near</td>\n",
       "      <td>69</td>\n",
       "    </tr>\n",
       "    <tr>\n",
       "      <th>6604</th>\n",
       "      <td>20</td>\n",
       "      <td>90</td>\n",
       "      <td>Medium</td>\n",
       "      <td>Yes</td>\n",
       "      <td>6</td>\n",
       "      <td>65</td>\n",
       "      <td>Low</td>\n",
       "      <td>3</td>\n",
       "      <td>Medium</td>\n",
       "      <td>2</td>\n",
       "      <td>No</td>\n",
       "      <td>Postgraduate</td>\n",
       "      <td>Near</td>\n",
       "      <td>68</td>\n",
       "    </tr>\n",
       "    <tr>\n",
       "      <th>6605</th>\n",
       "      <td>10</td>\n",
       "      <td>86</td>\n",
       "      <td>High</td>\n",
       "      <td>Yes</td>\n",
       "      <td>6</td>\n",
       "      <td>91</td>\n",
       "      <td>High</td>\n",
       "      <td>2</td>\n",
       "      <td>Medium</td>\n",
       "      <td>3</td>\n",
       "      <td>No</td>\n",
       "      <td>High School</td>\n",
       "      <td>Far</td>\n",
       "      <td>68</td>\n",
       "    </tr>\n",
       "    <tr>\n",
       "      <th>6606</th>\n",
       "      <td>15</td>\n",
       "      <td>67</td>\n",
       "      <td>Medium</td>\n",
       "      <td>Yes</td>\n",
       "      <td>9</td>\n",
       "      <td>94</td>\n",
       "      <td>Medium</td>\n",
       "      <td>0</td>\n",
       "      <td>Medium</td>\n",
       "      <td>4</td>\n",
       "      <td>No</td>\n",
       "      <td>Postgraduate</td>\n",
       "      <td>Near</td>\n",
       "      <td>64</td>\n",
       "    </tr>\n",
       "  </tbody>\n",
       "</table>\n",
       "<p>6607 rows × 14 columns</p>\n",
       "</div>"
      ],
      "text/plain": [
       "      Hours_Studied  Attendance Parental_Involvement  \\\n",
       "0                23          84                  Low   \n",
       "1                19          64                  Low   \n",
       "2                24          98               Medium   \n",
       "3                29          89                  Low   \n",
       "4                19          92               Medium   \n",
       "...             ...         ...                  ...   \n",
       "6602             25          69                 High   \n",
       "6603             23          76                 High   \n",
       "6604             20          90               Medium   \n",
       "6605             10          86                 High   \n",
       "6606             15          67               Medium   \n",
       "\n",
       "     Extracurricular_Activities  Sleep_Hours  Previous_Scores  \\\n",
       "0                            No            7               73   \n",
       "1                            No            8               59   \n",
       "2                           Yes            7               91   \n",
       "3                           Yes            8               98   \n",
       "4                           Yes            6               65   \n",
       "...                         ...          ...              ...   \n",
       "6602                         No            7               76   \n",
       "6603                         No            8               81   \n",
       "6604                        Yes            6               65   \n",
       "6605                        Yes            6               91   \n",
       "6606                        Yes            9               94   \n",
       "\n",
       "     Motivation_Level  Tutoring_Sessions Teacher_Quality  Physical_Activity  \\\n",
       "0                 Low                  0          Medium                  3   \n",
       "1                 Low                  2          Medium                  4   \n",
       "2              Medium                  2          Medium                  4   \n",
       "3              Medium                  1          Medium                  4   \n",
       "4              Medium                  3            High                  4   \n",
       "...               ...                ...             ...                ...   \n",
       "6602           Medium                  1          Medium                  2   \n",
       "6603           Medium                  3            High                  2   \n",
       "6604              Low                  3          Medium                  2   \n",
       "6605             High                  2          Medium                  3   \n",
       "6606           Medium                  0          Medium                  4   \n",
       "\n",
       "     Learning_Disabilities Parental_Education_Level Distance_from_Home  \\\n",
       "0                       No              High School               Near   \n",
       "1                       No                  College           Moderate   \n",
       "2                       No             Postgraduate               Near   \n",
       "3                       No              High School           Moderate   \n",
       "4                       No                  College               Near   \n",
       "...                    ...                      ...                ...   \n",
       "6602                    No              High School               Near   \n",
       "6603                    No              High School               Near   \n",
       "6604                    No             Postgraduate               Near   \n",
       "6605                    No              High School                Far   \n",
       "6606                    No             Postgraduate               Near   \n",
       "\n",
       "      Present_Score  \n",
       "0                67  \n",
       "1                61  \n",
       "2                74  \n",
       "3                71  \n",
       "4                70  \n",
       "...             ...  \n",
       "6602             68  \n",
       "6603             69  \n",
       "6604             68  \n",
       "6605             68  \n",
       "6606             64  \n",
       "\n",
       "[6607 rows x 14 columns]"
      ]
     },
     "execution_count": 51,
     "metadata": {},
     "output_type": "execute_result"
    }
   ],
   "source": [
    "df"
   ]
  },
  {
   "cell_type": "code",
   "execution_count": 52,
   "id": "5bb2ae05-64af-4e47-9b8a-496648924103",
   "metadata": {},
   "outputs": [
    {
     "name": "stdout",
     "output_type": "stream",
     "text": [
      "Index(['Hours_Studied', 'Attendance', 'Parental_Involvement',\n",
      "       'Extracurricular_Activities', 'Sleep_Hours', 'Previous_Scores',\n",
      "       'Motivation_Level', 'Tutoring_Sessions', 'Teacher_Quality',\n",
      "       'Physical_Activity', 'Learning_Disabilities',\n",
      "       'Parental_Education_Level', 'Distance_from_Home', 'Present_Score'],\n",
      "      dtype='object')\n"
     ]
    }
   ],
   "source": [
    "print(df.columns)"
   ]
  },
  {
   "cell_type": "code",
   "execution_count": 53,
   "id": "ab8809e6-e4d9-4f38-9947-365818f5cec5",
   "metadata": {},
   "outputs": [],
   "source": [
    "continous_variables =[\"Hours_Studied\",\"Attendance\",\"Previous_Scores\",\"Present_Score\"]\n",
    "count_variables=[\"Sleep_Hours\",\"Tutoring_Sessions\",\"Physical_Activity\"]\n",
    "categorical_variable = [\"Parental_Involvement\",\"Extracurricular_Activities\",\"Motivation_Level\",\"Teacher_Quality\",\"Parental_Education_Level\",\"Distance_from_Home\"]\n"
   ]
  },
  {
   "cell_type": "code",
   "execution_count": 54,
   "id": "d10b8c37-d7f0-4bff-aa83-66a08f02bbaf",
   "metadata": {},
   "outputs": [
    {
     "data": {
      "text/html": [
       "<div>\n",
       "<style scoped>\n",
       "    .dataframe tbody tr th:only-of-type {\n",
       "        vertical-align: middle;\n",
       "    }\n",
       "\n",
       "    .dataframe tbody tr th {\n",
       "        vertical-align: top;\n",
       "    }\n",
       "\n",
       "    .dataframe thead th {\n",
       "        text-align: right;\n",
       "    }\n",
       "</style>\n",
       "<table border=\"1\" class=\"dataframe\">\n",
       "  <thead>\n",
       "    <tr style=\"text-align: right;\">\n",
       "      <th></th>\n",
       "      <th>Hours_Studied</th>\n",
       "      <th>Attendance</th>\n",
       "      <th>Previous_Scores</th>\n",
       "      <th>Present_Score</th>\n",
       "    </tr>\n",
       "  </thead>\n",
       "  <tbody>\n",
       "    <tr>\n",
       "      <th>count</th>\n",
       "      <td>6607.000000</td>\n",
       "      <td>6607.000000</td>\n",
       "      <td>6607.000000</td>\n",
       "      <td>6607.000000</td>\n",
       "    </tr>\n",
       "    <tr>\n",
       "      <th>mean</th>\n",
       "      <td>19.975329</td>\n",
       "      <td>79.977448</td>\n",
       "      <td>75.070531</td>\n",
       "      <td>67.235659</td>\n",
       "    </tr>\n",
       "    <tr>\n",
       "      <th>std</th>\n",
       "      <td>5.990594</td>\n",
       "      <td>11.547475</td>\n",
       "      <td>14.399784</td>\n",
       "      <td>3.890456</td>\n",
       "    </tr>\n",
       "    <tr>\n",
       "      <th>min</th>\n",
       "      <td>1.000000</td>\n",
       "      <td>60.000000</td>\n",
       "      <td>50.000000</td>\n",
       "      <td>55.000000</td>\n",
       "    </tr>\n",
       "    <tr>\n",
       "      <th>25%</th>\n",
       "      <td>16.000000</td>\n",
       "      <td>70.000000</td>\n",
       "      <td>63.000000</td>\n",
       "      <td>65.000000</td>\n",
       "    </tr>\n",
       "    <tr>\n",
       "      <th>50%</th>\n",
       "      <td>20.000000</td>\n",
       "      <td>80.000000</td>\n",
       "      <td>75.000000</td>\n",
       "      <td>67.000000</td>\n",
       "    </tr>\n",
       "    <tr>\n",
       "      <th>75%</th>\n",
       "      <td>24.000000</td>\n",
       "      <td>90.000000</td>\n",
       "      <td>88.000000</td>\n",
       "      <td>69.000000</td>\n",
       "    </tr>\n",
       "    <tr>\n",
       "      <th>max</th>\n",
       "      <td>44.000000</td>\n",
       "      <td>100.000000</td>\n",
       "      <td>100.000000</td>\n",
       "      <td>101.000000</td>\n",
       "    </tr>\n",
       "  </tbody>\n",
       "</table>\n",
       "</div>"
      ],
      "text/plain": [
       "       Hours_Studied   Attendance  Previous_Scores  Present_Score\n",
       "count    6607.000000  6607.000000      6607.000000    6607.000000\n",
       "mean       19.975329    79.977448        75.070531      67.235659\n",
       "std         5.990594    11.547475        14.399784       3.890456\n",
       "min         1.000000    60.000000        50.000000      55.000000\n",
       "25%        16.000000    70.000000        63.000000      65.000000\n",
       "50%        20.000000    80.000000        75.000000      67.000000\n",
       "75%        24.000000    90.000000        88.000000      69.000000\n",
       "max        44.000000   100.000000       100.000000     101.000000"
      ]
     },
     "execution_count": 54,
     "metadata": {},
     "output_type": "execute_result"
    }
   ],
   "source": [
    "df[continous_variables].describe()"
   ]
  },
  {
   "cell_type": "code",
   "execution_count": 55,
   "id": "81a1e42f-6159-4272-94f0-9240d4e61eff",
   "metadata": {},
   "outputs": [
    {
     "data": {
      "text/html": [
       "<div>\n",
       "<style scoped>\n",
       "    .dataframe tbody tr th:only-of-type {\n",
       "        vertical-align: middle;\n",
       "    }\n",
       "\n",
       "    .dataframe tbody tr th {\n",
       "        vertical-align: top;\n",
       "    }\n",
       "\n",
       "    .dataframe thead th {\n",
       "        text-align: right;\n",
       "    }\n",
       "</style>\n",
       "<table border=\"1\" class=\"dataframe\">\n",
       "  <thead>\n",
       "    <tr style=\"text-align: right;\">\n",
       "      <th></th>\n",
       "      <th>Sleep_Hours</th>\n",
       "      <th>Tutoring_Sessions</th>\n",
       "      <th>Physical_Activity</th>\n",
       "    </tr>\n",
       "  </thead>\n",
       "  <tbody>\n",
       "    <tr>\n",
       "      <th>count</th>\n",
       "      <td>6607.00000</td>\n",
       "      <td>6607.000000</td>\n",
       "      <td>6607.000000</td>\n",
       "    </tr>\n",
       "    <tr>\n",
       "      <th>mean</th>\n",
       "      <td>7.02906</td>\n",
       "      <td>1.493719</td>\n",
       "      <td>2.967610</td>\n",
       "    </tr>\n",
       "    <tr>\n",
       "      <th>std</th>\n",
       "      <td>1.46812</td>\n",
       "      <td>1.230570</td>\n",
       "      <td>1.031231</td>\n",
       "    </tr>\n",
       "    <tr>\n",
       "      <th>min</th>\n",
       "      <td>4.00000</td>\n",
       "      <td>0.000000</td>\n",
       "      <td>0.000000</td>\n",
       "    </tr>\n",
       "    <tr>\n",
       "      <th>25%</th>\n",
       "      <td>6.00000</td>\n",
       "      <td>1.000000</td>\n",
       "      <td>2.000000</td>\n",
       "    </tr>\n",
       "    <tr>\n",
       "      <th>50%</th>\n",
       "      <td>7.00000</td>\n",
       "      <td>1.000000</td>\n",
       "      <td>3.000000</td>\n",
       "    </tr>\n",
       "    <tr>\n",
       "      <th>75%</th>\n",
       "      <td>8.00000</td>\n",
       "      <td>2.000000</td>\n",
       "      <td>4.000000</td>\n",
       "    </tr>\n",
       "    <tr>\n",
       "      <th>max</th>\n",
       "      <td>10.00000</td>\n",
       "      <td>8.000000</td>\n",
       "      <td>6.000000</td>\n",
       "    </tr>\n",
       "  </tbody>\n",
       "</table>\n",
       "</div>"
      ],
      "text/plain": [
       "       Sleep_Hours  Tutoring_Sessions  Physical_Activity\n",
       "count   6607.00000        6607.000000        6607.000000\n",
       "mean       7.02906           1.493719           2.967610\n",
       "std        1.46812           1.230570           1.031231\n",
       "min        4.00000           0.000000           0.000000\n",
       "25%        6.00000           1.000000           2.000000\n",
       "50%        7.00000           1.000000           3.000000\n",
       "75%        8.00000           2.000000           4.000000\n",
       "max       10.00000           8.000000           6.000000"
      ]
     },
     "execution_count": 55,
     "metadata": {},
     "output_type": "execute_result"
    }
   ],
   "source": [
    "df[count_variables].describe()"
   ]
  },
  {
   "cell_type": "code",
   "execution_count": 56,
   "id": "4f08b99d-7b74-4d86-b434-fd6fd044a254",
   "metadata": {},
   "outputs": [
    {
     "data": {
      "text/html": [
       "<div>\n",
       "<style scoped>\n",
       "    .dataframe tbody tr th:only-of-type {\n",
       "        vertical-align: middle;\n",
       "    }\n",
       "\n",
       "    .dataframe tbody tr th {\n",
       "        vertical-align: top;\n",
       "    }\n",
       "\n",
       "    .dataframe thead th {\n",
       "        text-align: right;\n",
       "    }\n",
       "</style>\n",
       "<table border=\"1\" class=\"dataframe\">\n",
       "  <thead>\n",
       "    <tr style=\"text-align: right;\">\n",
       "      <th></th>\n",
       "      <th>Parental_Involvement</th>\n",
       "      <th>Extracurricular_Activities</th>\n",
       "      <th>Motivation_Level</th>\n",
       "      <th>Teacher_Quality</th>\n",
       "      <th>Parental_Education_Level</th>\n",
       "      <th>Distance_from_Home</th>\n",
       "    </tr>\n",
       "  </thead>\n",
       "  <tbody>\n",
       "    <tr>\n",
       "      <th>count</th>\n",
       "      <td>6607</td>\n",
       "      <td>6607</td>\n",
       "      <td>6607</td>\n",
       "      <td>6529</td>\n",
       "      <td>6517</td>\n",
       "      <td>6540</td>\n",
       "    </tr>\n",
       "    <tr>\n",
       "      <th>unique</th>\n",
       "      <td>3</td>\n",
       "      <td>2</td>\n",
       "      <td>3</td>\n",
       "      <td>3</td>\n",
       "      <td>3</td>\n",
       "      <td>3</td>\n",
       "    </tr>\n",
       "    <tr>\n",
       "      <th>top</th>\n",
       "      <td>Medium</td>\n",
       "      <td>Yes</td>\n",
       "      <td>Medium</td>\n",
       "      <td>Medium</td>\n",
       "      <td>High School</td>\n",
       "      <td>Near</td>\n",
       "    </tr>\n",
       "    <tr>\n",
       "      <th>freq</th>\n",
       "      <td>3362</td>\n",
       "      <td>3938</td>\n",
       "      <td>3351</td>\n",
       "      <td>3925</td>\n",
       "      <td>3223</td>\n",
       "      <td>3884</td>\n",
       "    </tr>\n",
       "  </tbody>\n",
       "</table>\n",
       "</div>"
      ],
      "text/plain": [
       "       Parental_Involvement Extracurricular_Activities Motivation_Level  \\\n",
       "count                  6607                       6607             6607   \n",
       "unique                    3                          2                3   \n",
       "top                  Medium                        Yes           Medium   \n",
       "freq                   3362                       3938             3351   \n",
       "\n",
       "       Teacher_Quality Parental_Education_Level Distance_from_Home  \n",
       "count             6529                     6517               6540  \n",
       "unique               3                        3                  3  \n",
       "top             Medium              High School               Near  \n",
       "freq              3925                     3223               3884  "
      ]
     },
     "execution_count": 56,
     "metadata": {},
     "output_type": "execute_result"
    }
   ],
   "source": [
    "df[categorical_variable].describe()"
   ]
  },
  {
   "cell_type": "code",
   "execution_count": 57,
   "id": "6c2b69a4-618a-42a2-9d66-014cf359069f",
   "metadata": {},
   "outputs": [
    {
     "data": {
      "text/plain": [
       "<Axes: ylabel='Hours_Studied'>"
      ]
     },
     "execution_count": 57,
     "metadata": {},
     "output_type": "execute_result"
    },
    {
     "data": {
      "image/png": "[encoded data removed]",
      "text/plain": [
       "<Figure size 640x480 with 1 Axes>"
      ]
     },
     "metadata": {},
     "output_type": "display_data"
    }
   ],
   "source": [
    "sns.boxplot(df[\"Hours_Studied\"])"
   ]
  },
  {
   "cell_type": "code",
   "execution_count": 58,
   "id": "84cfe380-ea65-4d24-90f2-7b974cf5469f",
   "metadata": {},
   "outputs": [
    {
     "data": {
      "text/plain": [
       "<Axes: ylabel='Attendance'>"
      ]
     },
     "execution_count": 58,
     "metadata": {},
     "output_type": "execute_result"
    },
    {
     "data": {
      "image/png": "[encoded data removed]",
      "text/plain": [
       "<Figure size 640x480 with 1 Axes>"
      ]
     },
     "metadata": {},
     "output_type": "display_data"
    }
   ],
   "source": [
    "sns.boxplot(df[\"Attendance\"])"
   ]
  },
  {
   "cell_type": "code",
   "execution_count": 59,
   "id": "8856c720-ffdb-4b9f-a26f-5da39c077a0b",
   "metadata": {},
   "outputs": [
    {
     "data": {
      "text/plain": [
       "<Axes: ylabel='Sleep_Hours'>"
      ]
     },
     "execution_count": 59,
     "metadata": {},
     "output_type": "execute_result"
    },
    {
     "data": {
      "image/png": "[encoded data removed]",
      "text/plain": [
       "<Figure size 640x480 with 1 Axes>"
      ]
     },
     "metadata": {},
     "output_type": "display_data"
    }
   ],
   "source": [
    "sns.boxplot(df[\"Sleep_Hours\"])"
   ]
  },
  {
   "cell_type": "code",
   "execution_count": 60,
   "id": "b433a3a4-7a61-4466-bc35-851fea53d23c",
   "metadata": {},
   "outputs": [
    {
     "data": {
      "text/plain": [
       "<Axes: ylabel='Previous_Scores'>"
      ]
     },
     "execution_count": 60,
     "metadata": {},
     "output_type": "execute_result"
    },
    {
     "data": {
      "image/png": "[encoded data removed]",
      "text/plain": [
       "<Figure size 640x480 with 1 Axes>"
      ]
     },
     "metadata": {},
     "output_type": "display_data"
    }
   ],
   "source": [
    "sns.boxplot(df[\"Previous_Scores\"])"
   ]
  },
  {
   "cell_type": "markdown",
   "id": "b00a04ae-ae86-47f5-b9be-c4cada9ea6ab",
   "metadata": {},
   "source": [
    "**Checking Skewness**"
   ]
  },
  {
   "cell_type": "code",
   "execution_count": 61,
   "id": "864999e7-4ad0-423e-aec7-423203dda399",
   "metadata": {},
   "outputs": [
    {
     "data": {
      "text/plain": [
       "Hours_Studied      0.013499\n",
       "Attendance         0.013666\n",
       "Previous_Scores   -0.003737\n",
       "Present_Score      1.644808\n",
       "dtype: float64"
      ]
     },
     "execution_count": 61,
     "metadata": {},
     "output_type": "execute_result"
    }
   ],
   "source": [
    "df[continous_variables].skew()"
   ]
  },
  {
   "cell_type": "code",
   "execution_count": 62,
   "id": "e204a269-1ee8-4d07-aa08-963cd1c20eb6",
   "metadata": {},
   "outputs": [
    {
     "data": {
      "text/plain": [
       "Sleep_Hours         -0.023805\n",
       "Tutoring_Sessions    0.815530\n",
       "Physical_Activity   -0.031365\n",
       "dtype: float64"
      ]
     },
     "execution_count": 62,
     "metadata": {},
     "output_type": "execute_result"
    }
   ],
   "source": [
    "df[count_variables].skew()"
   ]
  },
  {
   "cell_type": "markdown",
   "id": "bb643e08-691e-41ac-837f-2ef6d62e3267",
   "metadata": {},
   "source": [
    "**Treat Dupilicates**"
   ]
  },
  {
   "cell_type": "code",
   "execution_count": 63,
   "id": "591d49e1-c293-4d79-9ad7-40d5b22b356a",
   "metadata": {},
   "outputs": [
    {
     "data": {
      "text/plain": [
       "np.int64(0)"
      ]
     },
     "execution_count": 63,
     "metadata": {},
     "output_type": "execute_result"
    }
   ],
   "source": [
    "df.duplicated().sum()"
   ]
  },
  {
   "cell_type": "markdown",
   "id": "c5cb2c64-d7c1-44a7-9729-2fdb69035ec1",
   "metadata": {},
   "source": [
    "**Data Cleaning**"
   ]
  },
  {
   "cell_type": "code",
   "execution_count": 64,
   "id": "1ca0d079-e721-4da2-a137-c346bbc6812c",
   "metadata": {},
   "outputs": [
    {
     "data": {
      "text/plain": [
       "Hours_Studied                  0\n",
       "Attendance                     0\n",
       "Parental_Involvement           0\n",
       "Extracurricular_Activities     0\n",
       "Sleep_Hours                    0\n",
       "Previous_Scores                0\n",
       "Motivation_Level               0\n",
       "Tutoring_Sessions              0\n",
       "Teacher_Quality               78\n",
       "Physical_Activity              0\n",
       "Learning_Disabilities          0\n",
       "Parental_Education_Level      90\n",
       "Distance_from_Home            67\n",
       "Present_Score                  0\n",
       "dtype: int64"
      ]
     },
     "execution_count": 64,
     "metadata": {},
     "output_type": "execute_result"
    }
   ],
   "source": [
    "df.isnull().sum()"
   ]
  },
  {
   "cell_type": "markdown",
   "id": "675f786f-b906-4d94-9fa2-cdf0466ec005",
   "metadata": {},
   "source": [
    "**filling null values with MODE , because it is categorical variables**"
   ]
  },
  {
   "cell_type": "code",
   "execution_count": 65,
   "id": "ce5be171-7e58-41e7-a999-a66793f2f17f",
   "metadata": {},
   "outputs": [],
   "source": [
    "df[\"Teacher_Quality\"]=df[\"Teacher_Quality\"].fillna(df[\"Teacher_Quality\"].mode()[0])\n",
    "df[\"Parental_Education_Level\"]=df[\"Parental_Education_Level\"].fillna(df[\"Parental_Education_Level\"].mode()[0])\n",
    "df[\"Distance_from_Home\"]=df[\"Distance_from_Home\"].fillna(df[\"Distance_from_Home\"].mode()[0])"
   ]
  },
  {
   "cell_type": "code",
   "execution_count": 66,
   "id": "8c4e220e-40eb-4446-9800-32426da88365",
   "metadata": {},
   "outputs": [
    {
     "data": {
      "text/plain": [
       "Hours_Studied                 0\n",
       "Attendance                    0\n",
       "Parental_Involvement          0\n",
       "Extracurricular_Activities    0\n",
       "Sleep_Hours                   0\n",
       "Previous_Scores               0\n",
       "Motivation_Level              0\n",
       "Tutoring_Sessions             0\n",
       "Teacher_Quality               0\n",
       "Physical_Activity             0\n",
       "Learning_Disabilities         0\n",
       "Parental_Education_Level      0\n",
       "Distance_from_Home            0\n",
       "Present_Score                 0\n",
       "dtype: int64"
      ]
     },
     "execution_count": 66,
     "metadata": {},
     "output_type": "execute_result"
    }
   ],
   "source": [
    "df.isnull().sum()"
   ]
  },
  {
   "cell_type": "markdown",
   "id": "b58cc3ae-3afd-4041-96e2-a3ced245f215",
   "metadata": {},
   "source": [
    "**DATA VISUALIZING**"
   ]
  },
  {
   "cell_type": "markdown",
   "id": "2a7d69c7-30ef-4a4b-9d09-13367d437556",
   "metadata": {},
   "source": [
    "**Defining Risk Criteria**"
   ]
  },
  {
   "cell_type": "markdown",
   "id": "0d60b0cd-51bd-457b-ba22-b2242d2e5a5b",
   "metadata": {},
   "source": [
    "#lets assume:\n",
    "\n",
    "**A student is at risk if present_score<40**\n",
    "\n",
    "**creating a new colum**"
   ]
  },
  {
   "cell_type": "code",
   "execution_count": 68,
   "id": "96ccdfb0-500c-4130-85db-4f3638af05e8",
   "metadata": {},
   "outputs": [],
   "source": [
    "df[\"Risk_Students\"] = df[\"Present_Score\"].apply(lambda x: \"At risk\" if x<40 else \"Safe\")"
   ]
  },
  {
   "cell_type": "code",
   "execution_count": 69,
   "id": "2a4ca8cf-2a3e-4740-b807-37d7b1c288e1",
   "metadata": {},
   "outputs": [
    {
     "data": {
      "text/plain": [
       "Text(0, 0.5, 'number of students')"
      ]
     },
     "execution_count": 69,
     "metadata": {},
     "output_type": "execute_result"
    },
    {
     "data": {
      "image/png": "[encoded data removed]",
      "text/plain": [
       "<Figure size 640x480 with 1 Axes>"
      ]
     },
     "metadata": {},
     "output_type": "display_data"
    }
   ],
   "source": [
    "sns.histplot(df[\"Present_Score\"],kde=True,bins=10,color=\"blue\")\n",
    "plt.axvline(40,color=\"red\",linestyle='--',label=\"At risk threshold(score<40)\")\n",
    "plt.title('Distribution of present scores')\n",
    "plt.xlabel(\"Present Score\")\n",
    "plt.ylabel(\"number of students\")"
   ]
  },
  {
   "cell_type": "code",
   "execution_count": null,
   "id": "27ec0e5c-fa52-42e0-b259-7ee839bb0732",
   "metadata": {},
   "outputs": [],
   "source": []
  },
  {
   "cell_type": "code",
   "execution_count": 70,
   "id": "30fbc991-f0df-4df0-b148-e408a696aa8c",
   "metadata": {},
   "outputs": [
    {
     "data": {
      "image/png": "[encoded data removed]",
      "text/plain": [
       "<Figure size 640x480 with 1 Axes>"
      ]
     },
     "metadata": {},
     "output_type": "display_data"
    }
   ],
   "source": [
    "sns.countplot(data=df,x=\"Risk_Students\",hue=\"Risk_Students\",palette=\"Set2\")\n",
    "plt.title(\"count of at risk vs safe students\")\n",
    "plt.ylabel(\"number os students\")\n",
    "plt.xticks(rotation=0)\n",
    "\n",
    "plt.show()"
   ]
  },
  {
   "cell_type": "code",
   "execution_count": 71,
   "id": "d77a5a1d-6a16-46b3-8b50-c82e0f3c530f",
   "metadata": {},
   "outputs": [],
   "source": [
    "df[\"Risk_Students\"] = df[\"Present_Score\"].apply(lambda x: \"At risk\" if x<60 else \"Safe\")"
   ]
  },
  {
   "cell_type": "code",
   "execution_count": 72,
   "id": "aa10df62-7666-436e-89f1-41a669a867c0",
   "metadata": {},
   "outputs": [
    {
     "data": {
      "text/plain": [
       "Text(0, 0.5, 'number of students')"
      ]
     },
     "execution_count": 72,
     "metadata": {},
     "output_type": "execute_result"
    },
    {
     "data": {
      "image/png": "[encoded data removed]",
      "text/plain": [
       "<Figure size 640x480 with 1 Axes>"
      ]
     },
     "metadata": {},
     "output_type": "display_data"
    }
   ],
   "source": [
    "sns.histplot(df[\"Present_Score\"],kde=True,bins=10,color=\"red\")\n",
    "plt.axvline(60,color=\"blue\",linestyle='--',label=\"At risk threshold(score<40)\")\n",
    "plt.title('Distribution of present scores')\n",
    "plt.xlabel(\"Present Score\")\n",
    "plt.ylabel(\"number of students\")"
   ]
  },
  {
   "cell_type": "code",
   "execution_count": 102,
   "id": "0a837cd4-9f7d-4e2d-b382-b3a7384d545e",
   "metadata": {},
   "outputs": [
    {
     "data": {
      "text/plain": [
       "<Axes: xlabel='Hours_Studied', ylabel='Present_Score'>"
      ]
     },
     "execution_count": 102,
     "metadata": {},
     "output_type": "execute_result"
    },
    {
     "data": {
      "image/png": "[encoded data removed]",
      "text/plain": [
       "<Figure size 640x480 with 1 Axes>"
      ]
     },
     "metadata": {},
     "output_type": "display_data"
    }
   ],
   "source": [
    "sns.scatterplot(data=df,x=\"Hours_Studied\",y=\"Present_Score\",hue=\"Risk_Students\")"
   ]
  },
  {
   "cell_type": "code",
   "execution_count": 105,
   "id": "fb64a2ae-7d9a-4318-9152-622cfe69f2ab",
   "metadata": {},
   "outputs": [
    {
     "data": {
      "text/plain": [
       "Risk_Students\n",
       "At risk      68\n",
       "Safe       6539\n",
       "Name: Attendance, dtype: int64"
      ]
     },
     "execution_count": 105,
     "metadata": {},
     "output_type": "execute_result"
    },
    {
     "data": {
      "image/png": "[encoded data removed]",
      "text/plain": [
       "<Figure size 640x480 with 1 Axes>"
      ]
     },
     "metadata": {},
     "output_type": "display_data"
    }
   ],
   "source": [
    "sns.boxplot(data=df,x=\"Risk_Students\",y=\"Attendance\")\n",
    "\n",
    "df.groupby(\"Risk_Students\")[\"Attendance\"].count()"
   ]
  },
  {
   "cell_type": "code",
   "execution_count": 107,
   "id": "1c136c7b-9d17-4679-9616-5d25df29379a",
   "metadata": {},
   "outputs": [
    {
     "data": {
      "text/plain": [
       "Parental_Involvement\n",
       "High      1908\n",
       "Low       1337\n",
       "Medium    3362\n",
       "Name: Risk_Students, dtype: int64"
      ]
     },
     "execution_count": 107,
     "metadata": {},
     "output_type": "execute_result"
    },
    {
     "data": {
      "image/png": "[encoded data removed]",
      "text/plain": [
       "<Figure size 640x480 with 1 Axes>"
      ]
     },
     "metadata": {},
     "output_type": "display_data"
    }
   ],
   "source": [
    "sns.countplot(data=df,x=\"Parental_Involvement\",hue=\"Risk_Students\")\n",
    "df.groupby(\"Parental_Involvement\")[\"Risk_Students\"].count()"
   ]
  },
  {
   "cell_type": "code",
   "execution_count": 110,
   "id": "ad5f531d-5f34-470f-a073-ceff214ec622",
   "metadata": {},
   "outputs": [
    {
     "data": {
      "text/plain": [
       "Motivation_Level\n",
       "High      1319\n",
       "Low       1937\n",
       "Medium    3351\n",
       "Name: Risk_Students, dtype: int64"
      ]
     },
     "execution_count": 110,
     "metadata": {},
     "output_type": "execute_result"
    },
    {
     "data": {
      "image/png": "[encoded data removed]",
      "text/plain": [
       "<Figure size 640x480 with 1 Axes>"
      ]
     },
     "metadata": {},
     "output_type": "display_data"
    }
   ],
   "source": [
    "sns.countplot(data=df,x=\"Motivation_Level\",hue=\"Risk_Students\")\n",
    "df.groupby(\"Motivation_Level\")[\"Risk_Students\"].count()"
   ]
  },
  {
   "cell_type": "code",
   "execution_count": 112,
   "id": "5cb8ab60-1a90-4eb1-9553-f9f649000c95",
   "metadata": {},
   "outputs": [
    {
     "data": {
      "text/plain": [
       "Sleep_Hours\n",
       "4      309\n",
       "5      695\n",
       "6     1376\n",
       "7     1741\n",
       "8     1399\n",
       "9      775\n",
       "10     312\n",
       "Name: Risk_Students, dtype: int64"
      ]
     },
     "execution_count": 112,
     "metadata": {},
     "output_type": "execute_result"
    },
    {
     "data": {
      "image/png": "[encoded data removed]",
      "text/plain": [
       "<Figure size 640x480 with 1 Axes>"
      ]
     },
     "metadata": {},
     "output_type": "display_data"
    }
   ],
   "source": [
    "sns.countplot(data=df,x=\"Sleep_Hours\",hue=\"Risk_Students\")\n",
    "df.groupby(\"Sleep_Hours\")[\"Risk_Students\"].count()"
   ]
  },
  {
   "cell_type": "code",
   "execution_count": 113,
   "id": "5a5b0e98-cd91-4b92-9b98-e2beb6133247",
   "metadata": {},
   "outputs": [
    {
     "data": {
      "text/plain": [
       "Tutoring_Sessions\n",
       "0    1513\n",
       "1    2179\n",
       "2    1649\n",
       "3     836\n",
       "4     301\n",
       "5     103\n",
       "6      18\n",
       "7       7\n",
       "8       1\n",
       "Name: Risk_Students, dtype: int64"
      ]
     },
     "execution_count": 113,
     "metadata": {},
     "output_type": "execute_result"
    },
    {
     "data": {
      "image/png": "[encoded data removed]",
      "text/plain": [
       "<Figure size 640x480 with 1 Axes>"
      ]
     },
     "metadata": {},
     "output_type": "display_data"
    }
   ],
   "source": [
    "sns.countplot(data=df,x=\"Tutoring_Sessions\",hue=\"Risk_Students\")\n",
    "df.groupby(\"Tutoring_Sessions\")[\"Risk_Students\"].count()"
   ]
  },
  {
   "cell_type": "code",
   "execution_count": 114,
   "id": "ed8247ac-be8f-4037-b59a-fa16dab36d37",
   "metadata": {},
   "outputs": [
    {
     "data": {
      "text/plain": [
       "Teacher_Quality\n",
       "High      1947\n",
       "Low        657\n",
       "Medium    4003\n",
       "Name: Risk_Students, dtype: int64"
      ]
     },
     "execution_count": 114,
     "metadata": {},
     "output_type": "execute_result"
    },
    {
     "data": {
      "image/png": "[encoded data removed]",
      "text/plain": [
       "<Figure size 640x480 with 1 Axes>"
      ]
     },
     "metadata": {},
     "output_type": "display_data"
    }
   ],
   "source": [
    "sns.countplot(data=df,x=\"Teacher_Quality\",hue=\"Risk_Students\")\n",
    "df.groupby(\"Teacher_Quality\")['Risk_Students'].count()"
   ]
  },
  {
   "cell_type": "code",
   "execution_count": 100,
   "id": "40052cc0-c0ce-4816-95c1-b0295b19dd4c",
   "metadata": {},
   "outputs": [
    {
     "data": {
      "text/plain": [
       "2.194642046314515"
      ]
     },
     "execution_count": 100,
     "metadata": {},
     "output_type": "execute_result"
    }
   ],
   "source": [
    "Risk_Students.shape[0]/len(df)*100"
   ]
  }
 ],
 "metadata": {
  "kernelspec": {
   "display_name": "Python 3 (ipykernel)",
   "language": "python",
   "name": "python3"
  },
  "language_info": {
   "codemirror_mode": {
    "name": "ipython",
    "version": 3
   },
   "file_extension": ".py",
   "mimetype": "text/x-python",
   "name": "python",
   "nbconvert_exporter": "python",
   "pygments_lexer": "ipython3",
   "version": "3.10.11"
  }
 },
 "nbformat": 4,
 "nbformat_minor": 5
}
